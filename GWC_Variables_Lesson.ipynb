{
 "cells": [
  {
   "cell_type": "markdown",
   "metadata": {},
   "source": [
    "# Welcome to Girls Who Code\n",
    "\n",
    "## We will be learning about VARIABLES today!\n",
    "\n",
    "### AGENDA\n",
    "1. Project Setup\n",
    "2. Introduction to Variables\n",
    "2. Variables Practice\n",
    "3. Variables Tips\n",
    "4. Variables Debrief\n",
    "\n",
    "### VOCABULARY\n",
    "- Python\n",
    "- Jupyter Notebook\n",
    "- Variable\n",
    "- Data Type\n",
    "- Boolean\n",
    "- Integer/Float\n",
    "- String\n"
   ]
  },
  {
   "cell_type": "markdown",
   "metadata": {},
   "source": [
    "---\n",
    "### Project Setup: Please download the Jupyter Notebook\n",
    "1. Go to \"mybinder.org\"\n",
    "2. Enter in the \"GitHub repository name or URL\" and click \"launch\" (see below)"
   ]
  },
  {
   "cell_type": "markdown",
   "metadata": {},
   "source": [
    "<img src=\"Binder_Login_annotated.jpg\">"
   ]
  },
  {
   "cell_type": "markdown",
   "metadata": {},
   "source": [
    "3. Navigate to the Jupyter Notebook by clicking on: \"GWC_Variables_Lesson.ipynb\"\n",
    "4. Start Learning!"
   ]
  },
  {
   "cell_type": "markdown",
   "metadata": {},
   "source": [
    "---\n",
    "### Introduction to Variables: Follow Along"
   ]
  },
  {
   "cell_type": "code",
   "execution_count": 1,
   "metadata": {},
   "outputs": [
    {
     "name": "stdout",
     "output_type": "stream",
     "text": [
      "Hello, World!\n"
     ]
    }
   ],
   "source": [
    "# This is a comment\n",
    "# Python doesn't read\n",
    "# what goes here.\n",
    "# Only for Humans!\n",
    "\n",
    "# prints hello world\n",
    "# HINT: put your cursor in this box, click, and then click Run in the upper panel\n",
    "print(\"Hello, World!\")"
   ]
  },
  {
   "cell_type": "markdown",
   "metadata": {},
   "source": [
    "#### What is a variable?\n",
    "\n",
    "Variables in Python hold information that you can change later. \n",
    "\n",
    "A variable has a name, or an identifier, and an associated value. \n",
    "\n",
    "- x = 2\n",
    "- x is the name\n",
    "- 2 is the value\n",
    "- \"=\" is the assignment operator"
   ]
  },
  {
   "cell_type": "code",
   "execution_count": 7,
   "metadata": {},
   "outputs": [
    {
     "name": "stdout",
     "output_type": "stream",
     "text": [
      "Type a random number between 1 and 10\n",
      "3\n",
      "My answer is: 3\n"
     ]
    }
   ],
   "source": [
    "#Try running this box multiple times with different answers\n",
    "answer = input(\"Type a random number between 1 and 10\\n\")\n",
    "print('My answer is:', answer)"
   ]
  },
  {
   "cell_type": "markdown",
   "metadata": {},
   "source": [
    "#### Variables have data types based on the value we give them:\n",
    "\n",
    "- Boolean (True, False) \n",
    "  - Store Yes or No answers\n",
    "  - Tracking if something is on/off\n",
    "\n",
    "- Integer (10, 3)\n",
    "  - Count things\n",
    "  - Keep a score\n",
    "  - Age\n",
    "  \n",
    "- Floats (10.01, 3.14159265359)\n",
    "  - Math\n",
    "  - Temperature\n",
    "\n",
    "- String (\"a string consists of letters (abc), numbers (123), and symbols (#!@) strung together\")\n",
    "  - Names\n",
    "  - Stories\n",
    "  - Anything text-based"
   ]
  },
  {
   "cell_type": "markdown",
   "metadata": {},
   "source": [
    "---\n",
    "### Variables Practice\n",
    "\n",
    "Variables are important for achieving goals of a project, such as creating a game:\n",
    "\n",
    "- We might use a boolean to keep track of whether or not a game has started.\n",
    "\n",
    "- We would use an integer to keep track of score.\n",
    "\n",
    "- We might use a string to store the name of the player so that it can be displayed in the game.\n",
    "\n",
    "In the following boxes, we will practice variable creation. I want you to think of some project id\n"
   ]
  },
  {
   "cell_type": "code",
   "execution_count": 8,
   "metadata": {},
   "outputs": [
    {
     "name": "stdout",
     "output_type": "stream",
     "text": [
      "3\n"
     ]
    }
   ],
   "source": [
    "# In this box, Create a BOOLEAN variable, print the value, and check the data type of the variable. \n",
    "# Repeat, with a different value.\n",
    "# HINT: to find the type do type(variable_name)\n",
    "\n"
   ]
  },
  {
   "cell_type": "code",
   "execution_count": 4,
   "metadata": {},
   "outputs": [],
   "source": [
    "# In this box, Create an INTEGER variable, print the value, and check the data type of the variable. \n",
    "# Repeat, with a different value.\n",
    "# HINT: to find the type do type(variable_name)\n",
    "\n"
   ]
  },
  {
   "cell_type": "code",
   "execution_count": 5,
   "metadata": {},
   "outputs": [],
   "source": [
    "# In this box, Create a FLOAT variable, print the value, and check the data type of the variable. \n",
    "# Repeat, with a different value.\n",
    "# HINT: to find the type do type(variable_name)\n",
    "\n"
   ]
  },
  {
   "cell_type": "code",
   "execution_count": 6,
   "metadata": {},
   "outputs": [],
   "source": [
    "# In this box, Create a STRING variable, print the value, and check the data type of the variable. \n",
    "# Repeat, with a different value.\n",
    "# HINT: to find the type do type(variable_name)\n",
    "\n"
   ]
  }
 ],
 "metadata": {
  "kernelspec": {
   "display_name": "Python 3",
   "language": "python",
   "name": "python3"
  },
  "language_info": {
   "codemirror_mode": {
    "name": "ipython",
    "version": 3
   },
   "file_extension": ".py",
   "mimetype": "text/x-python",
   "name": "python",
   "nbconvert_exporter": "python",
   "pygments_lexer": "ipython3",
   "version": "3.7.4"
  }
 },
 "nbformat": 4,
 "nbformat_minor": 2
}
